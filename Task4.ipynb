{
 "cells": [
  {
   "cell_type": "markdown",
   "id": "7e02380a-381a-4aff-bd7c-3a1ae690c837",
   "metadata": {},
   "source": [
    "### Import necessary libraries"
   ]
  },
  {
   "cell_type": "code",
   "execution_count": 18,
   "id": "6d33cc83-00ff-483f-b25d-92e43bea0e7a",
   "metadata": {},
   "outputs": [],
   "source": [
    "import cv2"
   ]
  },
  {
   "cell_type": "markdown",
   "id": "8e8ddff0-e13d-4797-a96c-1ef92e2849c3",
   "metadata": {},
   "source": [
    "### Read the image and display it"
   ]
  },
  {
   "cell_type": "code",
   "execution_count": 19,
   "id": "0cf38f86-a904-4ee3-a2c2-64f31e0f4978",
   "metadata": {},
   "outputs": [
    {
     "data": {
      "text/plain": [
       "-1"
      ]
     },
     "execution_count": 19,
     "metadata": {},
     "output_type": "execute_result"
    }
   ],
   "source": [
    "image = cv2.imread(\"panda.jpg\")\n",
    "cv2.imshow(\"panda\", image)\n",
    "cv2.waitKey(0)"
   ]
  },
  {
   "cell_type": "markdown",
   "id": "87145d80-1059-409f-a131-3ec457869a0f",
   "metadata": {},
   "source": [
    "### Convert the image into greyscale"
   ]
  },
  {
   "cell_type": "code",
   "execution_count": 20,
   "id": "51515bf5-d9f3-43e5-9b4e-84025b829cf8",
   "metadata": {},
   "outputs": [
    {
     "data": {
      "text/plain": [
       "-1"
      ]
     },
     "execution_count": 20,
     "metadata": {},
     "output_type": "execute_result"
    }
   ],
   "source": [
    "gray_image = cv2.cvtColor(image, cv2.COLOR_BGR2GRAY)\n",
    "cv2.imshow(\"New panda\", gray_image)\n",
    "cv2.waitKey(0)"
   ]
  },
  {
   "cell_type": "markdown",
   "id": "f8cfc122-5e5f-4252-bea5-0673af02c3c2",
   "metadata": {},
   "source": [
    "### Invert the new greyscale image"
   ]
  },
  {
   "cell_type": "code",
   "execution_count": 21,
   "id": "1fcbfd9f-ac45-40ff-83f8-5f9b88c40cea",
   "metadata": {},
   "outputs": [
    {
     "data": {
      "text/plain": [
       "-1"
      ]
     },
     "execution_count": 21,
     "metadata": {},
     "output_type": "execute_result"
    }
   ],
   "source": [
    "inverted_image = 255 - gray_image\n",
    "cv2.imshow(\"Inverted\", inverted_image)\n",
    "cv2.waitKey()"
   ]
  },
  {
   "cell_type": "markdown",
   "id": "f4dbdff3-7ca7-4c79-b42a-4b3199748580",
   "metadata": {},
   "source": [
    "### Blur the greyscaled image by using Gaussian Function"
   ]
  },
  {
   "cell_type": "code",
   "execution_count": 22,
   "id": "f8e252d0-7ddd-42ec-8078-caae0bb8a1e7",
   "metadata": {},
   "outputs": [],
   "source": [
    "blurred = cv2.GaussianBlur(inverted_image, (21, 21), 0)"
   ]
  },
  {
   "cell_type": "markdown",
   "id": "5460bd73-2cb8-43d1-9898-541cd5841b54",
   "metadata": {},
   "source": [
    "### convert the blurred image into a pencil sketch"
   ]
  },
  {
   "cell_type": "code",
   "execution_count": 23,
   "id": "65ad7f4f-6833-4c3a-aed1-0ac9360e6f07",
   "metadata": {},
   "outputs": [
    {
     "data": {
      "text/plain": [
       "-1"
      ]
     },
     "execution_count": 23,
     "metadata": {},
     "output_type": "execute_result"
    }
   ],
   "source": [
    "inverted_blurred = 255 - blurred\n",
    "pencil_sketch = cv2.divide(gray_image, inverted_blurred, scale=256.0)\n",
    "cv2.imshow(\"Sketch\", pencil_sketch)\n",
    "cv2.waitKey(0)"
   ]
  },
  {
   "cell_type": "markdown",
   "id": "2a852125-0677-4bab-9ee7-1211a56fda0d",
   "metadata": {},
   "source": [
    "### Display both original and pencil sketch"
   ]
  },
  {
   "cell_type": "code",
   "execution_count": null,
   "id": "f90a55b6-5a45-4dd2-9c2a-a22e26c87809",
   "metadata": {},
   "outputs": [],
   "source": [
    "cv2.imshow(\"original image\", image)\n",
    "cv2.imshow(\"pencil sketch\", pencil_sketch)\n",
    "cv2.waitKey(0)"
   ]
  }
 ],
 "metadata": {
  "kernelspec": {
   "display_name": "Python 3 (ipykernel)",
   "language": "python",
   "name": "python3"
  },
  "language_info": {
   "codemirror_mode": {
    "name": "ipython",
    "version": 3
   },
   "file_extension": ".py",
   "mimetype": "text/x-python",
   "name": "python",
   "nbconvert_exporter": "python",
   "pygments_lexer": "ipython3",
   "version": "3.11.5"
  }
 },
 "nbformat": 4,
 "nbformat_minor": 5
}
